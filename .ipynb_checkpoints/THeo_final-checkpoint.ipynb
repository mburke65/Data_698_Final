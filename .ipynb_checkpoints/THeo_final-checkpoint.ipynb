{
 "cells": [
  {
   "cell_type": "code",
   "execution_count": null,
   "metadata": {},
   "outputs": [],
   "source": [
    "\n",
    "\n",
    "## Create Book class with special print and attributes\n",
    "class Book:\n",
    "    def __init__(self):\n",
    "        self.Title = None\n",
    "        self.Author = None\n",
    "        self.Genre = None\n",
    "        self.Price = None\n",
    "    def __str__(self):\n",
    "        return (\"Title: \"+self.Title+'\\n'+\"Author: \"+self.Author+'\\n '+\"Genre: \"+self.Genre+'\\n'+\"Price: \":+str(self.Price))\n",
    "\n",
    "\n",
    "## Create Inventory with a books dictonary\n",
    "class Inventory:\n",
    "    def __init__ (self):\n",
    "        self.books={}\n",
    "\n",
    "    ## print the key and values from a book\n",
    "    def display (self):\n",
    "        for k, v in self.books.items():\n",
    "            print(k)\n",
    "            print(v)\n",
    "            print('------------------------------------------')\n",
    "            print('------------------------------------------')\n",
    "    ## Build a book, build its attributes, and insert it into dictionary\n",
    "    def add_book(self,file):\n",
    "        infile = open(file,'r').readlines()\n",
    "        for line in infile:\n",
    "            Book1=Book()\n",
    "            book=line.split(',')\n",
    "            Book1.itemnumber =book[0]\n",
    "            Book1.Title = book[1]\n",
    "            Book1.Author = book[2]\n",
    "            Book1.Genre = book[3]\n",
    "            Book1.Price = book[4].rstrip()\n",
    "            self.books[Book1.itemnumber]=Book1\n",
    "\n",
    "## Create child class Cart that inherits parent Inventory\n",
    "class Cart(Inventory):\n",
    "    def __init__ (self):\n",
    "        Inventory.__init__(self)\n",
    "        self.cartitems={}\n",
    "        \n",
    "    ## make cart items dicitonary.  If user picks item from Inventory dictionary, add it to cart dicitonary\n",
    "    def update_cart(self,users_input):\n",
    "        self.cartitems[users_input]=self.books[users_input]\n",
    "        return self\n",
    "\n",
    "    ## get price of every book and print total    \n",
    "    def check_out(self):\n",
    "        total_bill=0\n",
    "        for k, v in self.cartitems.items():\n",
    "            total_bill+=float(v.Price)\n",
    "        print(\" Thank you for your business: Your total bill is: \",total_bill)\n",
    "        return (total_bill)\n",
    "    \n",
    "    ## display cart \n",
    "    def display_cart(self):\n",
    "        for k, v in self.cartitems.items():\n",
    "            print(k)\n",
    "            print(v)\n",
    "            print('----------------------------')\n",
    "            print('------------------------------------------')\n",
    "        \n",
    "        \n",
    "\n",
    "answer=None\n",
    "my_cart=Cart()\n",
    "while answer !='4':        \n",
    "    my_cart.add_book('booklist.txt')\n",
    "    answer=input( \"\"\" \n",
    "                      1: Display Books \n",
    "                      2: Add to Cart\n",
    "                      3: Show Cart\n",
    "                      4: Checkout\n",
    "                      \"\"\") \n",
    "    if answer=='1':\n",
    "        my_cart.display()\n",
    "    elif answer =='2':\n",
    "        which_book=input(\"Please tell me the item number you would like to add to cart\")\n",
    "        if which_book in ['1000','1001','1002','10003']\n",
    "            my_cart.update_cart(which_book)\n",
    "    elif answer == '3':\n",
    "        my_cart.display_cart()\n",
    "    elif answer=='4' :\n",
    "        my_cart.check_out()\n",
    "    else: print(\"you didn't choose a correct item number\")\n",
    "    "
   ]
  },
  {
   "cell_type": "code",
   "execution_count": null,
   "metadata": {},
   "outputs": [],
   "source": []
  },
  {
   "cell_type": "code",
   "execution_count": null,
   "metadata": {},
   "outputs": [],
   "source": []
  },
  {
   "cell_type": "code",
   "execution_count": null,
   "metadata": {},
   "outputs": [],
   "source": []
  },
  {
   "cell_type": "code",
   "execution_count": null,
   "metadata": {},
   "outputs": [],
   "source": []
  },
  {
   "cell_type": "code",
   "execution_count": null,
   "metadata": {},
   "outputs": [],
   "source": []
  },
  {
   "cell_type": "code",
   "execution_count": null,
   "metadata": {},
   "outputs": [],
   "source": []
  }
 ],
 "metadata": {
  "kernelspec": {
   "display_name": "Python 3",
   "language": "python",
   "name": "python3"
  },
  "language_info": {
   "codemirror_mode": {
    "name": "ipython",
    "version": 3
   },
   "file_extension": ".py",
   "mimetype": "text/x-python",
   "name": "python",
   "nbconvert_exporter": "python",
   "pygments_lexer": "ipython3",
   "version": "3.7.1"
  },
  "latex_envs": {
   "LaTeX_envs_menu_present": true,
   "autoclose": false,
   "autocomplete": true,
   "bibliofile": "biblio.bib",
   "cite_by": "apalike",
   "current_citInitial": 1,
   "eqLabelWithNumbers": true,
   "eqNumInitial": 1,
   "hotkeys": {
    "equation": "Ctrl-E",
    "itemize": "Ctrl-I"
   },
   "labels_anchors": false,
   "latex_user_defs": false,
   "report_style_numbering": false,
   "user_envs_cfg": false
  },
  "toc": {
   "base_numbering": 1,
   "nav_menu": {},
   "number_sections": true,
   "sideBar": true,
   "skip_h1_title": false,
   "title_cell": "Table of Contents",
   "title_sidebar": "Contents",
   "toc_cell": false,
   "toc_position": {},
   "toc_section_display": true,
   "toc_window_display": false
  },
  "varInspector": {
   "cols": {
    "lenName": 16,
    "lenType": 16,
    "lenVar": 40
   },
   "kernels_config": {
    "python": {
     "delete_cmd_postfix": "",
     "delete_cmd_prefix": "del ",
     "library": "var_list.py",
     "varRefreshCmd": "print(var_dic_list())"
    },
    "r": {
     "delete_cmd_postfix": ") ",
     "delete_cmd_prefix": "rm(",
     "library": "var_list.r",
     "varRefreshCmd": "cat(var_dic_list()) "
    }
   },
   "types_to_exclude": [
    "module",
    "function",
    "builtin_function_or_method",
    "instance",
    "_Feature"
   ],
   "window_display": true
  }
 },
 "nbformat": 4,
 "nbformat_minor": 2
}
